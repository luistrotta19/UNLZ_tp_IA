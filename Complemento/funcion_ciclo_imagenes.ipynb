{
 "cells": [
  {
   "cell_type": "code",
   "execution_count": null,
   "metadata": {},
   "outputs": [],
   "source": [
    "def suma(a,b,g):\n",
    "    c = a+b+g\n",
    "    return c"
   ]
  },
  {
   "cell_type": "code",
   "execution_count": null,
   "metadata": {},
   "outputs": [],
   "source": [
    "resultado = suma(3,5,6)\n",
    "\n",
    "resultado\n",
    "\n",
    "#suma(3,5)\n"
   ]
  },
  {
   "cell_type": "code",
   "execution_count": null,
   "metadata": {},
   "outputs": [],
   "source": [
    "x = 0\n",
    "y = 0\n",
    "while y < 4:\n",
    "        while x < 5:\n",
    "            x=x+1\n",
    "            \n",
    "            print(x)\n",
    "            print(y)\n",
    "            \n",
    "        x=0\n",
    "        y+=1\n",
    "            \n",
    "print('valor', x, 'valor', y)"
   ]
  },
  {
   "attachments": {},
   "cell_type": "markdown",
   "metadata": {},
   "source": [
    "[insertar imagenes, metodos](https://stackoverflow.com/questions/46439874/display-image-jupyter-notebook-aligned-centre)"
   ]
  },
  {
   "cell_type": "code",
   "execution_count": null,
   "metadata": {},
   "outputs": [],
   "source": [
    "from IPython.display import HTML\n",
    "html1 = '<img src=\"image.png\" style=\"margin-left:auto; margin-right:auto\"/>'\n",
    "HTML(html1)"
   ]
  },
  {
   "cell_type": "code",
   "execution_count": null,
   "metadata": {},
   "outputs": [],
   "source": [
    "'<img src=\"image.png\" style=\"display=block; margin:auto\"/>'\n",
    "'<p style=\"text-align: center\"> <b>ffffffffffffffffff</b> </p>' "
   ]
  },
  {
   "cell_type": "code",
   "execution_count": null,
   "metadata": {},
   "outputs": [],
   "source": [
    "from IPython.display import HTML\n",
    "html2 = '<img src=\"image.png\" style=\"margin-left:auto; margin-right:auto\"/>'\n",
    "HTML(html2)"
   ]
  },
  {
   "cell_type": "code",
   "execution_count": null,
   "metadata": {},
   "outputs": [],
   "source": [
    "![Imagen](image.png)"
   ]
  }
 ],
 "metadata": {
  "kernelspec": {
   "display_name": "Python 3",
   "language": "python",
   "name": "python3"
  },
  "language_info": {
   "codemirror_mode": {
    "name": "ipython",
    "version": 3
   },
   "file_extension": ".py",
   "mimetype": "text/x-python",
   "name": "python",
   "nbconvert_exporter": "python",
   "pygments_lexer": "ipython3",
   "version": "3.10.7"
  },
  "orig_nbformat": 4,
  "vscode": {
   "interpreter": {
    "hash": "66953ef1485e130ffcd4117c5ef2c4af32aa8fc80996e9f954c0fe3db82fe14e"
   }
  }
 },
 "nbformat": 4,
 "nbformat_minor": 2
}
