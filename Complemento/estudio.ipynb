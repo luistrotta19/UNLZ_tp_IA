{
 "cells": [
  {
   "cell_type": "code",
   "execution_count": null,
   "metadata": {},
   "outputs": [],
   "source": [
    "import pandas as pd\n",
    "import numpy as np\n",
    "\n",
    "zonas = pd.read_excel('Matrices/Códigos de Zonas_tp.xlsx')\n",
    "df_distancias = pd.read_excel('Matrices/Matriz distancias_tp.xlsx')"
   ]
  },
  {
   "cell_type": "code",
   "execution_count": null,
   "metadata": {},
   "outputs": [],
   "source": [
    "def trans_xlmatriz_a_df(ruta_matrizod, hoja):\n",
    "    \"\"\" Lee la matriz de la pestaña determinada de un excel con matrices OD de 10 zonas\n",
    "    y la tranforma en un DataFrame\n",
    "    \"\"\"\n",
    "    return pd.read_excel(ruta_matrizod, sheet_name=hoja, usecols=(range(1,11)))"
   ]
  },
  {
   "cell_type": "code",
   "execution_count": null,
   "metadata": {},
   "outputs": [],
   "source": [
    "def trans_df_a_lista(df_producto):\n",
    "    \"\"\" Transforma un DataFrame de pandas con datos de una matriz OD de 122 zonas \n",
    "    a una lista de bibliotecas con los datos indexados con cargas, origen, destino y distancias.\n",
    "    Recorre todos los orígenes hacia el primer destino y así sucesivamente, o sea la fila cambia y la columna es\n",
    "    constante hasta que recorre todos los orígenes posibles.\n",
    "    \"\"\"\n",
    "    lista = []\n",
    "    x = 0\n",
    "    y = 0\n",
    "    while y < 9:\n",
    "        while x < 10:\n",
    "            conjunto = {}\n",
    "            conjunto['Origen'] = zonas.iat[x,3]\n",
    "            conjunto['ID origen'] = zonas.iat[x,0]\n",
    "            conjunto['Destino'] = zonas.iat[y,3]\n",
    "            conjunto['ID destino'] = zonas.iat[y,0]\n",
    "            conjunto['Carga'] = df_producto[(y+1)][x]\n",
    "            conjunto['Distancia'] = df_distancias[(y+1)][x]\n",
    "            lista.append(conjunto)\n",
    "            x += 1\n",
    "        x = 0\n",
    "        y += 1\n",
    "    #print(lista)\n",
    "    return lista"
   ]
  },
  {
   "cell_type": "code",
   "execution_count": null,
   "metadata": {},
   "outputs": [],
   "source": [
    "def leer_criterio(producto):\n",
    "    \"\"\" Lee un la pesteña deseada dentro del excel con criterios de derivabilidad\n",
    "    \"\"\"\n",
    "    return pd.read_excel('Matrices/Criterios de derivabilidad_tp.xlsx', sheet_name=producto) "
   ]
  },
  {
   "cell_type": "code",
   "execution_count": null,
   "metadata": {},
   "outputs": [],
   "source": [
    "def calcular_derivabilidad(lista_cargas, criterio):\n",
    "    \"\"\" Lee una lista de bibliotecas con informacion de cargas, origen, destino y distancia\n",
    "    y utiliza criterios de derivavilidad al FFCC para crear una lista nueva similar pero\n",
    "    con las cargas derivables.\n",
    "    \"\"\"\n",
    "    derivable = []\n",
    "    for i in lista_cargas:\n",
    "        conjunto = {}\n",
    "        conjunto['Origen'] = i['Origen']\n",
    "        conjunto['ID origen'] = i['ID origen']\n",
    "        conjunto['Distancia'] = i['Distancia']\n",
    "        conjunto['ID destino'] = i['ID destino']\n",
    "        conjunto['Destino'] = i['Destino']\n",
    "        if 300 > i['Distancia'] >= 200:\n",
    "            if criterio.iat[2,0] > i['Carga'] >= criterio.iat[3,0] :\n",
    "                conjunto['Carga'] = i['Carga']*criterio.iat[3,4]\n",
    "            elif criterio.iat[1,0] > i['Carga'] >= criterio.iat[2,0]:\n",
    "                conjunto['Carga'] = i['Carga']*criterio.iat[2,4]\n",
    "            elif criterio.iat[0,0] > i['Carga'] >= criterio.iat[1,0]:\n",
    "                conjunto['Carga'] = i['Carga']*criterio.iat[1,4]\n",
    "            elif i['Carga'] >= criterio.iat[0,0]:\n",
    "                conjunto['Carga'] = i['Carga']*criterio.iat[0,4]\n",
    "            else:\n",
    "                conjunto['Carga'] = 0\n",
    "        elif 400 > i['Distancia'] >= 300:\n",
    "            if criterio.iat[2,0] > i['Carga'] >= criterio.iat[3,0] :\n",
    "                conjunto['Carga'] = i['Carga']*criterio.iat[3,3]\n",
    "            elif criterio.iat[1,0] > i['Carga'] >= criterio.iat[2,0]:\n",
    "                conjunto['Carga'] = i['Carga']*criterio.iat[2,3]\n",
    "            elif criterio.iat[0,0] > i['Carga'] >= criterio.iat[1,0]:\n",
    "                conjunto['Carga'] = i['Carga']*criterio.iat[1,3]\n",
    "            elif i['Carga'] >= criterio.iat[0,0]:\n",
    "                conjunto['Carga'] = i['Carga']*criterio.iat[0,3]\n",
    "            else:\n",
    "                conjunto['Carga'] = 0\n",
    "        elif 500 > i['Distancia'] >= 400:\n",
    "            if criterio.iat[2,0] > i['Carga'] >= criterio.iat[3,0] :\n",
    "                conjunto['Carga'] = i['Carga']*criterio.iat[3,2]\n",
    "            elif criterio.iat[1,0] > i['Carga'] >= criterio.iat[2,0]:\n",
    "                conjunto['Carga'] = i['Carga']*criterio.iat[2,2]\n",
    "            elif criterio.iat[0,0] > i['Carga'] >= criterio.iat[1,0]:\n",
    "                conjunto['Carga'] = i['Carga']*criterio.iat[1,2]\n",
    "            elif i['Carga'] >= criterio.iat[0,0]:\n",
    "                conjunto['Carga'] = i['Carga']*criterio.iat[0,2]\n",
    "            else:\n",
    "                conjunto['Carga'] = 0\n",
    "        elif i['Distancia'] >= 500:\n",
    "            if criterio.iat[2,0] > i['Carga'] >= criterio.iat[3,0] :\n",
    "                conjunto['Carga'] = i['Carga']*criterio.iat[3,1]\n",
    "            elif criterio.iat[1,0] > i['Carga'] >= criterio.iat[2,0]:\n",
    "                conjunto['Carga'] = i['Carga']*criterio.iat[2,1]\n",
    "            elif criterio.iat[0,0] > i['Carga'] >= criterio.iat[1,0]:\n",
    "                conjunto['Carga'] = i['Carga']*criterio.iat[1,1]\n",
    "            elif i['Carga'] >= criterio.iat[0,0]:\n",
    "                conjunto['Carga'] = i['Carga']*criterio.iat[0,1]\n",
    "            else:\n",
    "                conjunto['Carga'] = 0\n",
    "        else:\n",
    "            conjunto['Carga'] = 0\n",
    "        derivable.append(conjunto)\n",
    "        \n",
    "    return derivable \n"
   ]
  },
  {
   "cell_type": "code",
   "execution_count": null,
   "metadata": {},
   "outputs": [],
   "source": [
    "def trans_lista_a_matriz(lista):\n",
    "    \"\"\" Lee una lista de biblioteca con información de cargas, origen y destino\n",
    "    y la transforma en una matriz para poder realizar operación sobre ella.\n",
    "    \"\"\"\n",
    "    matriz = np.zeros((10,10))\n",
    "    for x in lista:\n",
    "        q = ((x['ID destino'])-1)\n",
    "        w = ((x['ID origen'])-1)\n",
    "        matriz[w][q] = x['Carga']\n",
    "    return matriz              "
   ]
  },
  {
   "cell_type": "code",
   "execution_count": null,
   "metadata": {},
   "outputs": [],
   "source": [
    "# trbajo final que devuelve al excel de resultado del programa\n",
    "def trans_matriz_a_xlsx(matriz, ruta):\n",
    "    \"\"\"Crea una excel a partir de una matriz OD\n",
    "    \"\"\"\n",
    "    df = pd.DataFrame(matriz, index=(range(1,11)), columns=(range(1,11)))\n",
    "    df.to_excel(ruta)"
   ]
  },
  {
   "cell_type": "code",
   "execution_count": null,
   "metadata": {},
   "outputs": [],
   "source": [
    "def crear_matriz_carga_derivable(ruta_matriz_xls, pestaña, pestaña_criterio):\n",
    "    \"\"\"Combina todas las funciones antes declaradas para calcular la derivavilidad\n",
    "    de la carga a partir de los datos de un excel y de una pestaña determinada,\n",
    "    con datos matriz OD de Argentina, divido en 123 zonas, aplicando el criterio deseado\n",
    "    \"\"\" \n",
    "    '''\n",
    "    Para retornar por secuencias, a continuación se da un ejemplo del código:\n",
    "\n",
    "    df_camion = trans_xlmatriz_a_df(ruta_matriz_xls, pestaña) # pestaña= Total Toneladas Mineria\n",
    "    lista_camion = trans_df_a_lista(df_camion)\n",
    "    #criterio = leer_criterio(pestaña_criterio)\n",
    "    #lista_derivable = calcular_derivabilidad(lista_camion, criterio)\n",
    "    #matriz_derivable = trans_lista_a_matriz(lista_derivable)\n",
    "\n",
    "    #return df_camion\n",
    "    return lista_camion\n",
    "    #return criterio\n",
    "    #return lista_derivable\n",
    "    #return matriz_derivable\n",
    "\n",
    "    y para obtener el resultado, siempre hay que colocar el nombre de la función que llama, \n",
    "    para realizar el proceso en este caso:\n",
    "\n",
    "    matriz_mineria_derivable\n",
    "    '''   \n",
    "    df_camion = trans_xlmatriz_a_df(ruta_matriz_xls, pestaña) # pestaña= Total Toneladas Mineria\n",
    "    lista_camion = trans_df_a_lista(df_camion)\n",
    "    criterio = leer_criterio(pestaña_criterio)\n",
    "    lista_derivable = calcular_derivabilidad(lista_camion, criterio)\n",
    "    matriz_derivable = trans_lista_a_matriz(lista_derivable)\n",
    "\n",
    "    #return df_camion\n",
    "    #return lista_camion\n",
    "    #return criterio\n",
    "    #return lista_derivable\n",
    "    return matriz_derivable\n",
    "    "
   ]
  },
  {
   "cell_type": "code",
   "execution_count": null,
   "metadata": {},
   "outputs": [],
   "source": [
    "matriz_mineria_derivable = crear_matriz_carga_derivable('Matrices/Matrices Grupo Mineria_tp.xlsx', 'Total Toneladas Mineria 2014','MINERIA')\n"
   ]
  },
  {
   "cell_type": "code",
   "execution_count": null,
   "metadata": {},
   "outputs": [],
   "source": [
    "matriz_mineria_derivable"
   ]
  },
  {
   "cell_type": "code",
   "execution_count": null,
   "metadata": {},
   "outputs": [],
   "source": [
    "#matriz_derivable = matriz_mineria_derivable + matriz_granos_derivable "
   ]
  },
  {
   "cell_type": "code",
   "execution_count": null,
   "metadata": {},
   "outputs": [],
   "source": [
    "trans_matriz_a_xlsx(matriz_mineria_derivable, 'Matrices/Derivabilidad_mineria_1.xlsx')\n",
    "#trans_matriz_a_xlsx(matriz_granos_derivable, 'Matrices/Derivabilidad_granos_1.xlsx')\n",
    "#trans_matriz_a_xlsx(matriz_derivable, 'Matrices/Derivabilidad_tp.xlsx')"
   ]
  }
 ],
 "metadata": {
  "kernelspec": {
   "display_name": "Python 3",
   "language": "python",
   "name": "python3"
  },
  "language_info": {
   "codemirror_mode": {
    "name": "ipython",
    "version": 3
   },
   "file_extension": ".py",
   "mimetype": "text/x-python",
   "name": "python",
   "nbconvert_exporter": "python",
   "pygments_lexer": "ipython3",
   "version": "3.10.7"
  },
  "orig_nbformat": 4,
  "vscode": {
   "interpreter": {
    "hash": "66953ef1485e130ffcd4117c5ef2c4af32aa8fc80996e9f954c0fe3db82fe14e"
   }
  }
 },
 "nbformat": 4,
 "nbformat_minor": 2
}
