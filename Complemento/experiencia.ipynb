{
 "cells": [
  {
   "cell_type": "code",
   "execution_count": 1,
   "metadata": {},
   "outputs": [],
   "source": [
    "import pandas as pd"
   ]
  },
  {
   "cell_type": "code",
   "execution_count": 2,
   "metadata": {},
   "outputs": [],
   "source": [
    "zonas = pd.read_excel('Matrices/Códigos de Zonas_tp.xlsx')\n",
    "\n",
    "cargas = pd.read_excel('Matrices/Matrices Grupo Mineria_tp.xlsx')\n",
    "cargas.drop('Unnamed: 0', axis=1, inplace=True)\n",
    "\n",
    "df_distancias = pd.read_excel('Matrices/Matriz distancias_tp_1.xlsx')\n",
    "df_distancias.drop('Unnamed: 0', axis=1, inplace=True)\n",
    "\n",
    "criterio=pd.read_excel('Matrices/Criterios de derivabilidad_tp.xlsx', sheet_name='MINERIA')"
   ]
  },
  {
   "cell_type": "code",
   "execution_count": 3,
   "metadata": {},
   "outputs": [
    {
     "data": {
      "text/html": [
       "<div>\n",
       "<style scoped>\n",
       "    .dataframe tbody tr th:only-of-type {\n",
       "        vertical-align: middle;\n",
       "    }\n",
       "\n",
       "    .dataframe tbody tr th {\n",
       "        vertical-align: top;\n",
       "    }\n",
       "\n",
       "    .dataframe thead th {\n",
       "        text-align: right;\n",
       "    }\n",
       "</style>\n",
       "<table border=\"1\" class=\"dataframe\">\n",
       "  <thead>\n",
       "    <tr style=\"text-align: right;\">\n",
       "      <th></th>\n",
       "      <th>1</th>\n",
       "      <th>2</th>\n",
       "      <th>3</th>\n",
       "      <th>4</th>\n",
       "    </tr>\n",
       "  </thead>\n",
       "  <tbody>\n",
       "    <tr>\n",
       "      <th>0</th>\n",
       "      <td>39319</td>\n",
       "      <td>133000</td>\n",
       "      <td>1300</td>\n",
       "      <td>50000</td>\n",
       "    </tr>\n",
       "    <tr>\n",
       "      <th>1</th>\n",
       "      <td>0</td>\n",
       "      <td>34000</td>\n",
       "      <td>2200</td>\n",
       "      <td>15000</td>\n",
       "    </tr>\n",
       "    <tr>\n",
       "      <th>2</th>\n",
       "      <td>16948</td>\n",
       "      <td>1325674</td>\n",
       "      <td>4200000</td>\n",
       "      <td>65000</td>\n",
       "    </tr>\n",
       "    <tr>\n",
       "      <th>3</th>\n",
       "      <td>275000</td>\n",
       "      <td>12000000</td>\n",
       "      <td>0</td>\n",
       "      <td>10000</td>\n",
       "    </tr>\n",
       "  </tbody>\n",
       "</table>\n",
       "</div>"
      ],
      "text/plain": [
       "        1         2        3      4\n",
       "0   39319    133000     1300  50000\n",
       "1       0     34000     2200  15000\n",
       "2   16948   1325674  4200000  65000\n",
       "3  275000  12000000        0  10000"
      ]
     },
     "execution_count": 3,
     "metadata": {},
     "output_type": "execute_result"
    }
   ],
   "source": [
    "cargas"
   ]
  },
  {
   "cell_type": "code",
   "execution_count": 4,
   "metadata": {},
   "outputs": [
    {
     "data": {
      "text/plain": [
       "133000"
      ]
     },
     "execution_count": 4,
     "metadata": {},
     "output_type": "execute_result"
    }
   ],
   "source": [
    "cargas.iat[0,1]"
   ]
  },
  {
   "cell_type": "code",
   "execution_count": 5,
   "metadata": {},
   "outputs": [
    {
     "data": {
      "text/plain": [
       "39319"
      ]
     },
     "execution_count": 5,
     "metadata": {},
     "output_type": "execute_result"
    }
   ],
   "source": [
    "cargas[1][0]"
   ]
  },
  {
   "attachments": {},
   "cell_type": "markdown",
   "metadata": {},
   "source": [
    "##### conjunto['Carga'] = df_producto[(y+1)][x]"
   ]
  },
  {
   "cell_type": "code",
   "execution_count": 6,
   "metadata": {},
   "outputs": [
    {
     "data": {
      "text/html": [
       "<div>\n",
       "<style scoped>\n",
       "    .dataframe tbody tr th:only-of-type {\n",
       "        vertical-align: middle;\n",
       "    }\n",
       "\n",
       "    .dataframe tbody tr th {\n",
       "        vertical-align: top;\n",
       "    }\n",
       "\n",
       "    .dataframe thead th {\n",
       "        text-align: right;\n",
       "    }\n",
       "</style>\n",
       "<table border=\"1\" class=\"dataframe\">\n",
       "  <thead>\n",
       "    <tr style=\"text-align: right;\">\n",
       "      <th></th>\n",
       "      <th>1</th>\n",
       "      <th>2</th>\n",
       "      <th>3</th>\n",
       "      <th>4</th>\n",
       "    </tr>\n",
       "  </thead>\n",
       "  <tbody>\n",
       "    <tr>\n",
       "      <th>0</th>\n",
       "      <td>0</td>\n",
       "      <td>500</td>\n",
       "      <td>0</td>\n",
       "      <td>0</td>\n",
       "    </tr>\n",
       "    <tr>\n",
       "      <th>1</th>\n",
       "      <td>0</td>\n",
       "      <td>0</td>\n",
       "      <td>0</td>\n",
       "      <td>0</td>\n",
       "    </tr>\n",
       "    <tr>\n",
       "      <th>2</th>\n",
       "      <td>0</td>\n",
       "      <td>750</td>\n",
       "      <td>0</td>\n",
       "      <td>0</td>\n",
       "    </tr>\n",
       "    <tr>\n",
       "      <th>3</th>\n",
       "      <td>0</td>\n",
       "      <td>200</td>\n",
       "      <td>0</td>\n",
       "      <td>0</td>\n",
       "    </tr>\n",
       "  </tbody>\n",
       "</table>\n",
       "</div>"
      ],
      "text/plain": [
       "   1    2  3  4\n",
       "0  0  500  0  0\n",
       "1  0    0  0  0\n",
       "2  0  750  0  0\n",
       "3  0  200  0  0"
      ]
     },
     "execution_count": 6,
     "metadata": {},
     "output_type": "execute_result"
    }
   ],
   "source": [
    "df_distancias"
   ]
  },
  {
   "cell_type": "code",
   "execution_count": 7,
   "metadata": {},
   "outputs": [
    {
     "data": {
      "text/plain": [
       "750"
      ]
     },
     "execution_count": 7,
     "metadata": {},
     "output_type": "execute_result"
    }
   ],
   "source": [
    "df_distancias.iat[2,1]"
   ]
  },
  {
   "cell_type": "code",
   "execution_count": 8,
   "metadata": {},
   "outputs": [
    {
     "data": {
      "text/html": [
       "<div>\n",
       "<style scoped>\n",
       "    .dataframe tbody tr th:only-of-type {\n",
       "        vertical-align: middle;\n",
       "    }\n",
       "\n",
       "    .dataframe tbody tr th {\n",
       "        vertical-align: top;\n",
       "    }\n",
       "\n",
       "    .dataframe thead th {\n",
       "        text-align: right;\n",
       "    }\n",
       "</style>\n",
       "<table border=\"1\" class=\"dataframe\">\n",
       "  <thead>\n",
       "    <tr style=\"text-align: right;\">\n",
       "      <th></th>\n",
       "      <th>ID</th>\n",
       "      <th>CODIGO ZONA</th>\n",
       "      <th>PROVINCIA</th>\n",
       "      <th>CENTROIDE</th>\n",
       "    </tr>\n",
       "  </thead>\n",
       "  <tbody>\n",
       "    <tr>\n",
       "      <th>0</th>\n",
       "      <td>1</td>\n",
       "      <td>BOL</td>\n",
       "      <td>BUENOS AIRES</td>\n",
       "      <td>OLAVARRIA</td>\n",
       "    </tr>\n",
       "    <tr>\n",
       "      <th>1</th>\n",
       "      <td>2</td>\n",
       "      <td>BTA</td>\n",
       "      <td>BUENOS AIRES</td>\n",
       "      <td>CABA</td>\n",
       "    </tr>\n",
       "    <tr>\n",
       "      <th>2</th>\n",
       "      <td>3</td>\n",
       "      <td>CLC</td>\n",
       "      <td>CORDOBA</td>\n",
       "      <td>LA CARLOTA</td>\n",
       "    </tr>\n",
       "    <tr>\n",
       "      <th>3</th>\n",
       "      <td>4</td>\n",
       "      <td>SVT</td>\n",
       "      <td>SANTA FE</td>\n",
       "      <td>VENADO TUERTO</td>\n",
       "    </tr>\n",
       "  </tbody>\n",
       "</table>\n",
       "</div>"
      ],
      "text/plain": [
       "   ID CODIGO ZONA     PROVINCIA      CENTROIDE\n",
       "0   1         BOL  BUENOS AIRES      OLAVARRIA\n",
       "1   2         BTA  BUENOS AIRES           CABA\n",
       "2   3         CLC       CORDOBA     LA CARLOTA\n",
       "3   4         SVT      SANTA FE  VENADO TUERTO"
      ]
     },
     "execution_count": 8,
     "metadata": {},
     "output_type": "execute_result"
    }
   ],
   "source": [
    "zonas"
   ]
  },
  {
   "cell_type": "code",
   "execution_count": 9,
   "metadata": {},
   "outputs": [
    {
     "data": {
      "text/plain": [
       "'OLAVARRIA'"
      ]
     },
     "execution_count": 9,
     "metadata": {},
     "output_type": "execute_result"
    }
   ],
   "source": [
    "zonas.iat[0,3]"
   ]
  },
  {
   "cell_type": "code",
   "execution_count": 10,
   "metadata": {},
   "outputs": [
    {
     "data": {
      "text/html": [
       "<div>\n",
       "<style scoped>\n",
       "    .dataframe tbody tr th:only-of-type {\n",
       "        vertical-align: middle;\n",
       "    }\n",
       "\n",
       "    .dataframe tbody tr th {\n",
       "        vertical-align: top;\n",
       "    }\n",
       "\n",
       "    .dataframe thead th {\n",
       "        text-align: right;\n",
       "    }\n",
       "</style>\n",
       "<table border=\"1\" class=\"dataframe\">\n",
       "  <thead>\n",
       "    <tr style=\"text-align: right;\">\n",
       "      <th></th>\n",
       "      <th>toneladas</th>\n",
       "      <th>400</th>\n",
       "      <th>300</th>\n",
       "      <th>200</th>\n",
       "      <th>100</th>\n",
       "    </tr>\n",
       "  </thead>\n",
       "  <tbody>\n",
       "    <tr>\n",
       "      <th>0</th>\n",
       "      <td>120000</td>\n",
       "      <td>0.510</td>\n",
       "      <td>0.427</td>\n",
       "      <td>0.338</td>\n",
       "      <td>0.255</td>\n",
       "    </tr>\n",
       "    <tr>\n",
       "      <th>1</th>\n",
       "      <td>82333</td>\n",
       "      <td>0.427</td>\n",
       "      <td>0.338</td>\n",
       "      <td>0.255</td>\n",
       "      <td>0.172</td>\n",
       "    </tr>\n",
       "    <tr>\n",
       "      <th>2</th>\n",
       "      <td>44670</td>\n",
       "      <td>0.338</td>\n",
       "      <td>0.255</td>\n",
       "      <td>0.172</td>\n",
       "      <td>0.083</td>\n",
       "    </tr>\n",
       "    <tr>\n",
       "      <th>3</th>\n",
       "      <td>7000</td>\n",
       "      <td>0.255</td>\n",
       "      <td>0.172</td>\n",
       "      <td>0.083</td>\n",
       "      <td>0.000</td>\n",
       "    </tr>\n",
       "  </tbody>\n",
       "</table>\n",
       "</div>"
      ],
      "text/plain": [
       "   toneladas    400    300    200    100\n",
       "0     120000  0.510  0.427  0.338  0.255\n",
       "1      82333  0.427  0.338  0.255  0.172\n",
       "2      44670  0.338  0.255  0.172  0.083\n",
       "3       7000  0.255  0.172  0.083  0.000"
      ]
     },
     "execution_count": 10,
     "metadata": {},
     "output_type": "execute_result"
    }
   ],
   "source": [
    "criterio"
   ]
  },
  {
   "cell_type": "code",
   "execution_count": 11,
   "metadata": {},
   "outputs": [
    {
     "data": {
      "text/plain": [
       "120000"
      ]
     },
     "execution_count": 11,
     "metadata": {},
     "output_type": "execute_result"
    }
   ],
   "source": [
    "criterio.iat[0,0]"
   ]
  },
  {
   "cell_type": "code",
   "execution_count": 12,
   "metadata": {},
   "outputs": [],
   "source": [
    "lista_cargas = [{'Origen': 'OLAVARRIA',\n",
    "  'ID origen': 1,\n",
    "  'Destino': 'OLAVARRIA',\n",
    "  'ID destino': 1,\n",
    "  'Carga': 39319,\n",
    "  'Distancia': 0},\n",
    " {'Origen': 'CABA',\n",
    "  'ID origen': 2,\n",
    "  'Destino': 'OLAVARRIA',\n",
    "  'ID destino': 1,\n",
    "  'Carga': 0,\n",
    "  'Distancia': 0},\n",
    " {'Origen': 'LA CARLOTA',\n",
    "  'ID origen': 3,\n",
    "  'Destino': 'OLAVARRIA',\n",
    "  'ID destino': 1,\n",
    "  'Carga': 16948,\n",
    "  'Distancia': 0},\n",
    " {'Origen': 'VENADO TUERTO',\n",
    "  'ID origen': 4,\n",
    "  'Destino': 'OLAVARRIA',\n",
    "  'ID destino': 1,\n",
    "  'Carga': 275000,\n",
    "  'Distancia': 0},\n",
    " {'Origen': 'OLAVARRIA',\n",
    "  'ID origen': 1,\n",
    "  'Destino': 'CABA',\n",
    "  'ID destino': 2,\n",
    "  'Carga': 133000,\n",
    "  'Distancia': 500},\n",
    " {'Origen': 'CABA',\n",
    "  'ID origen': 2,\n",
    "  'Destino': 'CABA',\n",
    "  'ID destino': 2,\n",
    "  'Carga': 34000,\n",
    "  'Distancia': 0},\n",
    " {'Origen': 'LA CARLOTA',\n",
    "  'ID origen': 3,\n",
    "  'Destino': 'CABA',\n",
    "  'ID destino': 2,\n",
    "  'Carga': 1325674,\n",
    "  'Distancia': 750},\n",
    " {'Origen': 'VENADO TUERTO',\n",
    "  'ID origen': 4,\n",
    "  'Destino': 'CABA',\n",
    "  'ID destino': 2,\n",
    "  'Carga': 12000000,\n",
    "  'Distancia': 200},\n",
    " {'Origen': 'OLAVARRIA',\n",
    "  'ID origen': 1,\n",
    "  'Destino': 'LA CARLOTA',\n",
    "  'ID destino': 3,\n",
    "  'Carga': 1300,\n",
    "  'Distancia': 0},\n",
    " {'Origen': 'CABA',\n",
    "  'ID origen': 2,\n",
    "  'Destino': 'LA CARLOTA',\n",
    "  'ID destino': 3,\n",
    "  'Carga': 2200,\n",
    "  'Distancia': 0},\n",
    " {'Origen': 'LA CARLOTA',\n",
    "  'ID origen': 3,\n",
    "  'Destino': 'LA CARLOTA',\n",
    "  'ID destino': 3,\n",
    "  'Carga': 4200000,\n",
    "  'Distancia': 0},\n",
    " {'Origen': 'VENADO TUERTO',\n",
    "  'ID origen': 4,\n",
    "  'Destino': 'LA CARLOTA',\n",
    "  'ID destino': 3,\n",
    "  'Carga': 0,\n",
    "  'Distancia': 0},\n",
    " {'Origen': 'OLAVARRIA',\n",
    "  'ID origen': 1,\n",
    "  'Destino': 'VENADO TUERTO',\n",
    "  'ID destino': 4,\n",
    "  'Carga': 50000,\n",
    "  'Distancia': 0},\n",
    " {'Origen': 'CABA',\n",
    "  'ID origen': 2,\n",
    "  'Destino': 'VENADO TUERTO',\n",
    "  'ID destino': 4,\n",
    "  'Carga': 15000,\n",
    "  'Distancia': 0},\n",
    " {'Origen': 'LA CARLOTA',\n",
    "  'ID origen': 3,\n",
    "  'Destino': 'VENADO TUERTO',\n",
    "  'ID destino': 4,\n",
    "  'Carga': 65000,\n",
    "  'Distancia': 0},\n",
    " {'Origen': 'VENADO TUERTO',\n",
    "  'ID origen': 4,\n",
    "  'Destino': 'VENADO TUERTO',\n",
    "  'ID destino': 4,\n",
    "  'Carga': 10000,\n",
    "  'Distancia': 0}]"
   ]
  },
  {
   "cell_type": "code",
   "execution_count": 13,
   "metadata": {},
   "outputs": [],
   "source": [
    "derivable = []\n",
    "for i in lista_cargas:\n",
    "        conjunto = {}\n",
    "        conjunto['Origen'] = i['Origen']\n",
    "        conjunto['ID origen'] = i['ID origen']\n",
    "        conjunto['Distancia'] = i['Distancia']\n",
    "        conjunto['ID destino'] = i['ID destino']\n",
    "        conjunto['Destino'] = i['Destino']\n",
    "        derivable.append(conjunto) "
   ]
  },
  {
   "cell_type": "code",
   "execution_count": 14,
   "metadata": {},
   "outputs": [
    {
     "data": {
      "text/plain": [
       "{'Origen': 'LA CARLOTA',\n",
       " 'ID origen': 3,\n",
       " 'Distancia': 0,\n",
       " 'ID destino': 1,\n",
       " 'Destino': 'OLAVARRIA'}"
      ]
     },
     "execution_count": 14,
     "metadata": {},
     "output_type": "execute_result"
    }
   ],
   "source": [
    "derivable[2]"
   ]
  },
  {
   "cell_type": "code",
   "execution_count": 15,
   "metadata": {},
   "outputs": [],
   "source": [
    "lista=[{'luis':'jugador','carlos':'2'},{'luis':'maestra','carlos':'3'}]"
   ]
  },
  {
   "cell_type": "code",
   "execution_count": 16,
   "metadata": {},
   "outputs": [],
   "source": [
    "listalc=[{'luis':'jugador','carlos':'4'},{'luis':'maestra','carlos':'10'}]"
   ]
  },
  {
   "cell_type": "markdown",
   "metadata": {},
   "source": [
    "\n",
    "\n",
    "\n",
    "dr=[]\n",
    "for i in lista:\n",
    "    con={}\n",
    "    con['luis'] = i['luis']\n",
    "    con['carlos'] = i['carlos']\n",
    "    dr.append(con)\n",
    "    \n",
    "\n",
    "dr"
   ]
  },
  {
   "cell_type": "markdown",
   "metadata": {},
   "source": [
    "lista[1]"
   ]
  },
  {
   "attachments": {},
   "cell_type": "markdown",
   "metadata": {},
   "source": [
    "###### data_c = [ {'A': 5, 'B': 0, 'C': 3, 'D': 3}, {'A': 7, 'B': 9, 'C': 3, 'D': 5}, {'A': 2, 'B': 4, 'C': 7, 'D': 6}] \n",
    "\n",
    "pd.DataFrame.from_dict(data_c, orient='columns') A B C D 0 5 0 3 3 1 7 9 3 5 2 2 4 7 6\n",
    "\n",
    "Fuente: https://www.iteramos.com/pregunta/84351/convertir-una-lista-de-diccionarios-en-un-dataframe-de-pandas"
   ]
  },
  {
   "cell_type": "code",
   "execution_count": 17,
   "metadata": {},
   "outputs": [],
   "source": [
    "ds1=pd.DataFrame.from_dict(lista,orient='columns')"
   ]
  },
  {
   "cell_type": "code",
   "execution_count": 18,
   "metadata": {},
   "outputs": [
    {
     "data": {
      "text/plain": [
       "0    2\n",
       "1    3\n",
       "Name: carlos, dtype: int32"
      ]
     },
     "execution_count": 18,
     "metadata": {},
     "output_type": "execute_result"
    }
   ],
   "source": [
    "k1=((ds1['carlos'].astype(int))*1)\n",
    "k1"
   ]
  },
  {
   "cell_type": "code",
   "execution_count": 19,
   "metadata": {},
   "outputs": [
    {
     "data": {
      "text/plain": [
       "0    2\n",
       "1    3\n",
       "Name: carlos, dtype: object"
      ]
     },
     "execution_count": 19,
     "metadata": {},
     "output_type": "execute_result"
    }
   ],
   "source": [
    "ds1['carlos']\n"
   ]
  },
  {
   "cell_type": "code",
   "execution_count": 20,
   "metadata": {},
   "outputs": [],
   "source": [
    "ds2=pd.DataFrame.from_dict(listalc,orient='columns')"
   ]
  },
  {
   "cell_type": "code",
   "execution_count": 21,
   "metadata": {},
   "outputs": [
    {
     "data": {
      "text/plain": [
       "'4'"
      ]
     },
     "execution_count": 21,
     "metadata": {},
     "output_type": "execute_result"
    }
   ],
   "source": [
    "ds2.iat[0,1]"
   ]
  },
  {
   "cell_type": "code",
   "execution_count": 22,
   "metadata": {},
   "outputs": [
    {
     "data": {
      "text/html": [
       "<div>\n",
       "<style scoped>\n",
       "    .dataframe tbody tr th:only-of-type {\n",
       "        vertical-align: middle;\n",
       "    }\n",
       "\n",
       "    .dataframe tbody tr th {\n",
       "        vertical-align: top;\n",
       "    }\n",
       "\n",
       "    .dataframe thead th {\n",
       "        text-align: right;\n",
       "    }\n",
       "</style>\n",
       "<table border=\"1\" class=\"dataframe\">\n",
       "  <thead>\n",
       "    <tr style=\"text-align: right;\">\n",
       "      <th></th>\n",
       "      <th>luis</th>\n",
       "      <th>carlos</th>\n",
       "    </tr>\n",
       "  </thead>\n",
       "  <tbody>\n",
       "    <tr>\n",
       "      <th>0</th>\n",
       "      <td>jugador</td>\n",
       "      <td>4</td>\n",
       "    </tr>\n",
       "    <tr>\n",
       "      <th>1</th>\n",
       "      <td>maestra</td>\n",
       "      <td>10</td>\n",
       "    </tr>\n",
       "  </tbody>\n",
       "</table>\n",
       "</div>"
      ],
      "text/plain": [
       "      luis carlos\n",
       "0  jugador      4\n",
       "1  maestra     10"
      ]
     },
     "execution_count": 22,
     "metadata": {},
     "output_type": "execute_result"
    }
   ],
   "source": [
    "ds2"
   ]
  },
  {
   "cell_type": "code",
   "execution_count": 23,
   "metadata": {},
   "outputs": [
    {
     "data": {
      "text/plain": [
       "0     4\n",
       "1    10\n",
       "Name: carlos, dtype: int32"
      ]
     },
     "execution_count": 23,
     "metadata": {},
     "output_type": "execute_result"
    }
   ],
   "source": [
    "k2=((ds2['carlos'].astype(int))*1)\n",
    "k2\n"
   ]
  },
  {
   "cell_type": "code",
   "execution_count": 24,
   "metadata": {},
   "outputs": [],
   "source": [
    "kt=k1.add(k2)"
   ]
  },
  {
   "cell_type": "code",
   "execution_count": 25,
   "metadata": {},
   "outputs": [
    {
     "data": {
      "text/plain": [
       "0     6\n",
       "1    13\n",
       "Name: carlos, dtype: int32"
      ]
     },
     "execution_count": 25,
     "metadata": {},
     "output_type": "execute_result"
    }
   ],
   "source": [
    "kt"
   ]
  }
 ],
 "metadata": {
  "kernelspec": {
   "display_name": "Python 3",
   "language": "python",
   "name": "python3"
  },
  "language_info": {
   "codemirror_mode": {
    "name": "ipython",
    "version": 3
   },
   "file_extension": ".py",
   "mimetype": "text/x-python",
   "name": "python",
   "nbconvert_exporter": "python",
   "pygments_lexer": "ipython3",
   "version": "3.10.7"
  },
  "orig_nbformat": 4,
  "vscode": {
   "interpreter": {
    "hash": "66953ef1485e130ffcd4117c5ef2c4af32aa8fc80996e9f954c0fe3db82fe14e"
   }
  }
 },
 "nbformat": 4,
 "nbformat_minor": 2
}
